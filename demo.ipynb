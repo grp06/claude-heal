{
 "cells": [
  {
   "cell_type": "code",
   "execution_count": null,
   "id": "063d3879",
   "metadata": {},
   "outputs": [],
   "source": [
    "import healer"
   ]
  },
  {
   "cell_type": "code",
   "execution_count": null,
   "id": "d5aae30a",
   "metadata": {},
   "outputs": [],
   "source": [
    "resp = healer.generate_filepath_json(prompt=\"give me a synthetic sample response for the rulefile updater.\", model=\"gpt-oss-120b\")\n",
    "resp"
   ]
  },
  {
   "cell_type": "code",
   "execution_count": 1,
   "id": "18bae68f",
   "metadata": {},
   "outputs": [
    {
     "data": {
      "text/plain": [
       "{'improvements': [{'filepath': 'modal_apps/CLAUDE.md',\n",
       "   'improvement': '- After any change to a Modal app\\'s `scaledown_window` (e.g., increased to keep the container warm longer), update this file with the new value and the rationale (e.g., \"PDF bucket processor frequently invoked by v2_pipeline\"), so future developers know the scaling intent.\\n- When fixing import paths (e.g., changing `from v2_pipeline.utils.image_utils` to `from utils.image_utils`), add a note here that the import was migrated and that a repo‑wide search for stale `v2_pipeline` imports should be run to avoid similar ModuleNotFoundError.\\n- Add a brief debugging tip for the `get_text_from_pdf_modal_app` endpoint: log the full request JSON (excluding any large base64 payload) before returning a 400, to surface missing or malformed fields.'},\n",
       "  {'filepath': 'CLAUDE.md',\n",
       "   'improvement': '- Add a CI/maintenance rule: run `grep -R \"from v2_pipeline\" .` after each merge and fail the build if any matches remain, preventing broken imports.\\n- Document the required deployment step for the PDF bucket processor Modal app (run `modal deploy modal_apps/pdf_bucket_processor_for_question_generation_graph_modal_app.py`) and note that the app must be running before v2_pipeline calls to avoid 404 errors.'},\n",
       "  {'filepath': 'utils/CLAUDE.md',\n",
       "   'improvement': '- When moving utilities between packages (e.g., moving `image_utils` under `utils/`), update the \"Folder Purpose\" section to reflect the new location and add a migration checklist entry: verify all imports, run repo‑wide grep for old paths, and update tests.'}]}"
      ]
     },
     "execution_count": 1,
     "metadata": {},
     "output_type": "execute_result"
    }
   ],
   "source": [
    "import os\n",
    "import json\n",
    "from pathlib import Path\n",
    "\n",
    "from healer import generate_filepath_json\n",
    "from index import load_transcript\n",
    "\n",
    "base_dir = Path('/Users/darshil/projects/claude-heal')\n",
    "sample_dir = base_dir / 'sample_jsonls'\n",
    "paths_file = sample_dir / 'claudemd_paths.txt'\n",
    "\n",
    "# pick the smallest JSONL file in sample_jsonls\n",
    "jsonl_files = [p for p in sample_dir.glob('*.jsonl') if p.is_file()]\n",
    "if not jsonl_files:\n",
    "    raise RuntimeError('No JSONL files found in sample_jsonls')\n",
    "smallest_jsonl = sorted(jsonl_files, key=lambda p: p.stat().st_size)[4]\n",
    "\n",
    "# load and clean the JSONL content using the cleanup logic from index.py\n",
    "cleaned_records = load_transcript(str(smallest_jsonl))\n",
    "cleaned_jsonl_content = \"\\n\".join(json.dumps(record, ensure_ascii=False) for record in cleaned_records)\n",
    "\n",
    "# read all CLAUDE.md files listed in the paths file\n",
    "claude_md_paths = []\n",
    "with paths_file.open('r', encoding='utf-8') as f:\n",
    "    for line in f:\n",
    "        p = line.strip()\n",
    "        if not p:\n",
    "            continue\n",
    "        claude_md_paths.append(Path(p))\n",
    "\n",
    "claude_blurbs = []\n",
    "for p in claude_md_paths:\n",
    "    try:\n",
    "        # read at most first 400 chars to avoid huge prompts from CLAUDE.md files\n",
    "        with p.open('r', encoding='utf-8') as f:\n",
    "            content = f.read()\n",
    "            claude_blurbs.append(f\"PATH: {p}\\n---\\n{content}\\n\")\n",
    "    except Exception as e:\n",
    "        claude_blurbs.append(f\"PATH: {p}\\n---\\n<error reading: {e}>\\n\")\n",
    "\n",
    "prompt = (\n",
    "    \"You are preparing a minimal sample run for the Rulefile-Updater.\\n\"\n",
    "    f\"CHAT HISTORY JSONL NAME: {smallest_jsonl.name}\\nJSONL CONTENT:\\n{cleaned_jsonl_content}\\n\\n\"\n",
    "    \"CLAUDE_MD_SNIPPETS (trimmed):\\n\" + \"\\n\\n\".join(claude_blurbs)\n",
    ")\n",
    "# print(prompt)\n",
    "\n",
    "resp = generate_filepath_json(prompt=prompt, model='gpt-oss-120b')\n",
    "resp\n"
   ]
  },
  {
   "cell_type": "code",
   "execution_count": null,
   "id": "73abf804",
   "metadata": {},
   "outputs": [],
   "source": []
  }
 ],
 "metadata": {
  "kernelspec": {
   "display_name": "thesys",
   "language": "python",
   "name": "python3"
  },
  "language_info": {
   "codemirror_mode": {
    "name": "ipython",
    "version": 3
   },
   "file_extension": ".py",
   "mimetype": "text/x-python",
   "name": "python",
   "nbconvert_exporter": "python",
   "pygments_lexer": "ipython3",
   "version": "3.12.1"
  }
 },
 "nbformat": 4,
 "nbformat_minor": 5
}
