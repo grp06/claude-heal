{
 "cells": [
  {
   "cell_type": "code",
   "execution_count": 1,
   "id": "063d3879",
   "metadata": {},
   "outputs": [],
   "source": [
    "import healer"
   ]
  },
  {
   "cell_type": "code",
   "execution_count": null,
   "id": "d5aae30a",
   "metadata": {},
   "outputs": [],
   "source": [
    "resp = healer.generate_filepath_json(prompt=\"give me a synthetic sample response for the rulefile updater.\", model=\"gpt-oss-120b\")\n",
    "resp"
   ]
  },
  {
   "cell_type": "code",
   "execution_count": null,
   "id": "18bae68f",
   "metadata": {},
   "outputs": [],
   "source": []
  },
  {
   "cell_type": "code",
   "execution_count": null,
   "id": "73abf804",
   "metadata": {},
   "outputs": [],
   "source": []
  }
 ],
 "metadata": {
  "kernelspec": {
   "display_name": "thesys",
   "language": "python",
   "name": "python3"
  },
  "language_info": {
   "codemirror_mode": {
    "name": "ipython",
    "version": 3
   },
   "file_extension": ".py",
   "mimetype": "text/x-python",
   "name": "python",
   "nbconvert_exporter": "python",
   "pygments_lexer": "ipython3",
   "version": "3.12.1"
  }
 },
 "nbformat": 4,
 "nbformat_minor": 5
}
